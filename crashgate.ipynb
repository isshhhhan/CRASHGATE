{
  "nbformat": 4,
  "nbformat_minor": 0,
  "metadata": {
    "colab": {
      "provenance": []
    },
    "kernelspec": {
      "name": "python3",
      "display_name": "Python 3"
    },
    "language_info": {
      "name": "python"
    }
  },
  "cells": [
    {
      "cell_type": "code",
      "execution_count": 27,
      "metadata": {
        "colab": {
          "base_uri": "https://localhost:8080/"
        },
        "id": "os3HObLeC0ct",
        "outputId": "194bb882-7aef-440a-fd35-8bf612408fbd"
      },
      "outputs": [
        {
          "output_type": "stream",
          "name": "stdout",
          "text": [
            "Drive already mounted at /content/drive; to attempt to forcibly remount, call drive.mount(\"/content/drive\", force_remount=True).\n"
          ]
        }
      ],
      "source": [
        "from google.colab import drive\n",
        "drive.mount('/content/drive')\n",
        "import pandas as pd\n",
        "races = pd.read_csv('/content/drive/MyDrive/Colab Datasets/races.csv')\n",
        "results = pd.read_csv('/content/drive/MyDrive/Colab Datasets/results.csv')\n",
        "standings = pd.read_csv('/content/drive/MyDrive/Colab Datasets/driver_standings.csv')\n",
        "status = pd.read_csv('/content/drive/MyDrive/Colab Datasets/status.csv')\n",
        "drivers = pd.read_csv('/content/drive/MyDrive/Colab Datasets/drivers.csv')\n"
      ]
    },
    {
      "cell_type": "code",
      "source": [
        "results = results.drop(columns=['status'], errors='ignore')\n",
        "results = results.merge(status, on='statusId', how='left')\n",
        "results = results.merge(races[['raceId', 'year']], on='raceId', how='left')\n",
        "\n",
        "print(results)\n"
      ],
      "metadata": {
        "colab": {
          "base_uri": "https://localhost:8080/"
        },
        "collapsed": true,
        "id": "QpH-uewAEXSf",
        "outputId": "68d7bd6e-bb7b-43cb-87a3-0b793bdfaf08"
      },
      "execution_count": 21,
      "outputs": [
        {
          "output_type": "stream",
          "name": "stdout",
          "text": [
            "       resultId  raceId  driverId  constructorId number  grid position  \\\n",
            "0             1      18         1              1     22     1        1   \n",
            "1             2      18         2              2      3     5        2   \n",
            "2             3      18         3              3      7     7        3   \n",
            "3             4      18         4              4      5    11        4   \n",
            "4             5      18         5              1     23     3        5   \n",
            "...         ...     ...       ...            ...    ...   ...      ...   \n",
            "26754     26760    1144       825            210     20    14       16   \n",
            "26755     26761    1144       859            215     30    12       17   \n",
            "26756     26762    1144       822             15     77     9       \\N   \n",
            "26757     26763    1144       861              3     43    20       \\N   \n",
            "26758     26764    1144       815              9     11    10       \\N   \n",
            "\n",
            "      positionText  positionOrder  points  ...  rank fastestLapTime  \\\n",
            "0                1              1    10.0  ...     2       1:27.452   \n",
            "1                2              2     8.0  ...     3       1:27.739   \n",
            "2                3              3     6.0  ...     5       1:28.090   \n",
            "3                4              4     5.0  ...     7       1:28.603   \n",
            "4                5              5     4.0  ...     1       1:27.418   \n",
            "...            ...            ...     ...  ...   ...            ...   \n",
            "26754           16             16     0.0  ...     1       1:25.637   \n",
            "26755           17             17     0.0  ...    12       1:28.751   \n",
            "26756            R             18     0.0  ...    19       1:29.482   \n",
            "26757            R             19     0.0  ...    17       1:29.411   \n",
            "26758            R             20     0.0  ...     0             \\N   \n",
            "\n",
            "      fastestLapSpeed statusId          status_x          status_y year_x  \\\n",
            "0             218.300        1          Finished          Finished   2008   \n",
            "1             217.586        1          Finished          Finished   2008   \n",
            "2             216.719        1          Finished          Finished   2008   \n",
            "3             215.464        1          Finished          Finished   2008   \n",
            "4             218.385        1          Finished          Finished   2008   \n",
            "...               ...      ...               ...               ...    ...   \n",
            "26754         222.002       11            +1 Lap            +1 Lap   2024   \n",
            "26755         214.212        5            Engine            Engine   2024   \n",
            "26756         212.462      130  Collision damage  Collision damage   2024   \n",
            "26757         212.631        5            Engine            Engine   2024   \n",
            "26758              \\N        4         Collision         Collision   2024   \n",
            "\n",
            "       year_y            status  year  \n",
            "0        2008          Finished  2008  \n",
            "1        2008          Finished  2008  \n",
            "2        2008          Finished  2008  \n",
            "3        2008          Finished  2008  \n",
            "4        2008          Finished  2008  \n",
            "...       ...               ...   ...  \n",
            "26754    2024            +1 Lap  2024  \n",
            "26755    2024            Engine  2024  \n",
            "26756    2024  Collision damage  2024  \n",
            "26757    2024            Engine  2024  \n",
            "26758    2024         Collision  2024  \n",
            "\n",
            "[26759 rows x 24 columns]\n"
          ]
        }
      ]
    },
    {
      "cell_type": "code",
      "source": [
        "crashes = results[results['status'].str.contains('Collision|Accident', na=False)]\n",
        "races = pd.read_csv('races.csv')\n",
        "\n",
        "\n",
        "print(results.columns)\n",
        "\n",
        "results = results.drop(columns=['status_x', 'status_y', 'year_x', 'year_y'], errors='ignore')\n",
        "\n",
        "\n",
        "print(results.columns.tolist())\n"
      ],
      "metadata": {
        "colab": {
          "base_uri": "https://localhost:8080/"
        },
        "collapsed": true,
        "id": "lPuSBVK0E7OT",
        "outputId": "d52961f0-3425-420c-a03b-1342f6752ddf"
      },
      "execution_count": 23,
      "outputs": [
        {
          "output_type": "stream",
          "name": "stdout",
          "text": [
            "Index(['resultId', 'raceId', 'driverId', 'constructorId', 'number', 'grid',\n",
            "       'position', 'positionText', 'positionOrder', 'points', 'laps', 'time',\n",
            "       'milliseconds', 'fastestLap', 'rank', 'fastestLapTime',\n",
            "       'fastestLapSpeed', 'statusId', 'status_x', 'status_y', 'year_x',\n",
            "       'year_y', 'status', 'year'],\n",
            "      dtype='object')\n",
            "['resultId', 'raceId', 'driverId', 'constructorId', 'number', 'grid', 'position', 'positionText', 'positionOrder', 'points', 'laps', 'time', 'milliseconds', 'fastestLap', 'rank', 'fastestLapTime', 'fastestLapSpeed', 'statusId', 'status', 'year']\n"
          ]
        }
      ]
    },
    {
      "cell_type": "code",
      "source": [
        "# Just keep raceId and round from the races file\n",
        "races_rounds = races[['raceId', 'round']]\n",
        "\n",
        "# Merge round into crashes\n",
        "crashes = crashes.merge(races_rounds, on='raceId', how='left')\n",
        "\n",
        "\n",
        "print(crashes.columns)\n"
      ],
      "metadata": {
        "colab": {
          "base_uri": "https://localhost:8080/"
        },
        "collapsed": true,
        "id": "j7pPrQpBexhi",
        "outputId": "663f8d80-09dd-4fe4-dd47-6fd758ac6507"
      },
      "execution_count": 44,
      "outputs": [
        {
          "output_type": "stream",
          "name": "stdout",
          "text": [
            "Index(['resultId', 'raceId', 'driverId', 'constructorId', 'number', 'grid',\n",
            "       'position', 'positionText', 'positionOrder', 'points', 'laps', 'time',\n",
            "       'milliseconds', 'fastestLap', 'rank', 'fastestLapTime',\n",
            "       'fastestLapSpeed', 'statusId', 'status_x', 'status_y', 'year_x',\n",
            "       'year_y', 'status', 'year', 'round'],\n",
            "      dtype='object')\n"
          ]
        }
      ]
    },
    {
      "cell_type": "code",
      "source": [
        "crash_counts = crashes.groupby(['driverId', 'year']).size().reset_index(name='crashes')\n"
      ],
      "metadata": {
        "id": "e2OYLnjaOPUs"
      },
      "execution_count": 24,
      "outputs": []
    },
    {
      "cell_type": "code",
      "source": [
        "crash_counts = crash_counts.merge(drivers[['driverId', 'forename', 'surname']], on='driverId', how='left')\n",
        "crash_counts['driver_name'] = crash_counts['forename'] + ' ' + crash_counts['surname']\n"
      ],
      "metadata": {
        "id": "dWt2BN4OOdPb"
      },
      "execution_count": null,
      "outputs": []
    },
    {
      "cell_type": "code",
      "source": [
        "# 🧼 Re-load fresh, unmerged version of standings\n",
        "standings = pd.read_csv('/content/drive/MyDrive/Colab Datasets/driver_standings.csv')\n",
        "\n",
        "# ✅ Clean merge with both year and round\n",
        "standings = standings.merge(races[['raceId', 'year', 'round']], on='raceId', how='left')\n"
      ],
      "metadata": {
        "id": "_pp7FByxb6yx"
      },
      "execution_count": 46,
      "outputs": []
    },
    {
      "cell_type": "code",
      "source": [
        "print(standings)"
      ],
      "metadata": {
        "colab": {
          "base_uri": "https://localhost:8080/"
        },
        "collapsed": true,
        "id": "OK0azFIyfzUg",
        "outputId": "fef80c51-45d8-4ab1-97bc-827f74831c89"
      },
      "execution_count": 47,
      "outputs": [
        {
          "output_type": "stream",
          "name": "stdout",
          "text": [
            "       driverStandingsId  raceId  driverId  points  position positionText  \\\n",
            "0                      1      18         1    10.0         1            1   \n",
            "1                      2      18         2     8.0         2            2   \n",
            "2                      3      18         3     6.0         3            3   \n",
            "3                      4      18         4     5.0         4            4   \n",
            "4                      5      18         5     4.0         5            5   \n",
            "...                  ...     ...       ...     ...       ...          ...   \n",
            "34858              73266    1144       858     0.0        23           23   \n",
            "34859              73267    1144       860     7.0        18           18   \n",
            "34860              73268    1144       861     5.0        19           19   \n",
            "34861              73269    1144       859     4.0        21           21   \n",
            "34862              73270    1144       862     0.0        24           24   \n",
            "\n",
            "       wins  year  round  \n",
            "0         1  2008      1  \n",
            "1         0  2008      1  \n",
            "2         0  2008      1  \n",
            "3         0  2008      1  \n",
            "4         0  2008      1  \n",
            "...     ...   ...    ...  \n",
            "34858     0  2024     24  \n",
            "34859     0  2024     24  \n",
            "34860     0  2024     24  \n",
            "34861     0  2024     24  \n",
            "34862     0  2024     24  \n",
            "\n",
            "[34863 rows x 9 columns]\n"
          ]
        }
      ]
    },
    {
      "cell_type": "code",
      "source": [
        "\n",
        "last_races = races.groupby('year')['round'].max().reset_index()\n",
        "final_race_ids = races.merge(last_races, on=['year', 'round'], how='inner')[['year', 'raceId']]\n",
        "\n",
        "\n",
        "final_standings = standings.merge(final_race_ids, on=['year', 'raceId'], how='inner')\n",
        "final_standings = final_standings[['driverId', 'year', 'position']]\n",
        "final_standings.rename(columns={'position': 'final_position'}, inplace=True)"
      ],
      "metadata": {
        "id": "JUW7MSVkcyqy"
      },
      "execution_count": 36,
      "outputs": []
    },
    {
      "cell_type": "code",
      "source": [
        "print (final_standings)"
      ],
      "metadata": {
        "colab": {
          "base_uri": "https://localhost:8080/"
        },
        "collapsed": true,
        "id": "6frgZjsic4Hb",
        "outputId": "c2015652-0aa8-4ba7-98aa-6441bd7934f0"
      },
      "execution_count": 37,
      "outputs": [
        {
          "output_type": "stream",
          "name": "stdout",
          "text": [
            "      driverId  year  final_position\n",
            "0            1  2008               1\n",
            "1            2  2008               6\n",
            "2            3  2008              13\n",
            "3            4  2008               5\n",
            "4            5  2008               7\n",
            "...        ...   ...             ...\n",
            "3187       858  2024              23\n",
            "3188       860  2024              18\n",
            "3189       861  2024              19\n",
            "3190       859  2024              21\n",
            "3191       862  2024              24\n",
            "\n",
            "[3192 rows x 3 columns]\n"
          ]
        }
      ]
    },
    {
      "cell_type": "code",
      "source": [
        "crash_data = crash_counts.merge(final_standings, on=['driverId', 'year'], how='left')\n"
      ],
      "metadata": {
        "id": "ZeA8bTTbc9WV"
      },
      "execution_count": 38,
      "outputs": []
    },
    {
      "cell_type": "code",
      "source": [
        "print(crash_data)"
      ],
      "metadata": {
        "colab": {
          "base_uri": "https://localhost:8080/"
        },
        "collapsed": true,
        "id": "sUTE5zpudDJr",
        "outputId": "c87dbf8e-2287-42a8-d047-bc6c12f79ee6"
      },
      "execution_count": 39,
      "outputs": [
        {
          "output_type": "stream",
          "name": "stdout",
          "text": [
            "      driverId  year  crashes forename    surname       driver_name  \\\n",
            "0            1  2008        1    Lewis   Hamilton    Lewis Hamilton   \n",
            "1            1  2009        2    Lewis   Hamilton    Lewis Hamilton   \n",
            "2            1  2010        2    Lewis   Hamilton    Lewis Hamilton   \n",
            "3            1  2011        2    Lewis   Hamilton    Lewis Hamilton   \n",
            "4            1  2012        3    Lewis   Hamilton    Lewis Hamilton   \n",
            "...        ...   ...      ...      ...        ...               ...   \n",
            "1221       856  2023        2     Nyck   de Vries     Nyck de Vries   \n",
            "1222       857  2023        1    Oscar    Piastri     Oscar Piastri   \n",
            "1223       858  2023        3    Logan   Sargeant    Logan Sargeant   \n",
            "1224       858  2024        2    Logan   Sargeant    Logan Sargeant   \n",
            "1225       861  2024        2   Franco  Colapinto  Franco Colapinto   \n",
            "\n",
            "      final_position  \n",
            "0                1.0  \n",
            "1                5.0  \n",
            "2                4.0  \n",
            "3                5.0  \n",
            "4                4.0  \n",
            "...              ...  \n",
            "1221            22.0  \n",
            "1222             9.0  \n",
            "1223            21.0  \n",
            "1224            23.0  \n",
            "1225            19.0  \n",
            "\n",
            "[1226 rows x 7 columns]\n"
          ]
        }
      ]
    },
    {
      "cell_type": "code",
      "source": [
        "crash_standings = crashes.merge(\n",
        "    standings,\n",
        "    on=['driverId', 'year'],\n",
        "    how='left',\n",
        "    suffixes=('', '_standing')  # prevent suffix clashes\n",
        ")\n"
      ],
      "metadata": {
        "id": "snooaDbLhHjh"
      },
      "execution_count": 48,
      "outputs": []
    },
    {
      "cell_type": "code",
      "source": [
        "crash_standings = crash_standings[crash_standings['round_standing'] < crash_standings['round']]\n"
      ],
      "metadata": {
        "id": "hoGUwkNlhLvJ"
      },
      "execution_count": 50,
      "outputs": []
    },
    {
      "cell_type": "code",
      "source": [
        "crash_standings = crash_standings.sort_values(\n",
        "    by=['driverId', 'raceId', 'round_standing'], ascending=[True, True, False]\n",
        ")\n",
        "\n"
      ],
      "metadata": {
        "id": "yZskg81IhUCB"
      },
      "execution_count": 51,
      "outputs": []
    },
    {
      "cell_type": "code",
      "source": [
        "pre_crash = crash_standings.groupby(['driverId', 'raceId']).first().reset_index()\n"
      ],
      "metadata": {
        "id": "vWa1W3u5hYLr"
      },
      "execution_count": 52,
      "outputs": []
    },
    {
      "cell_type": "code",
      "source": [
        "pre_crash.rename(columns={'position': 'pre_crash_position'}, inplace=True)\n"
      ],
      "metadata": {
        "id": "zaP1WCDlhaSe"
      },
      "execution_count": 53,
      "outputs": []
    },
    {
      "cell_type": "code",
      "source": [
        "print(pre_crash[['driverId', 'raceId', 'year', 'round', 'pre_crash_position']])\n",
        "\n"
      ],
      "metadata": {
        "colab": {
          "base_uri": "https://localhost:8080/"
        },
        "collapsed": true,
        "id": "kwzB6QlKhgDh",
        "outputId": "60f9bae2-7f37-42ea-8091-8145b95fdb15"
      },
      "execution_count": 55,
      "outputs": [
        {
          "output_type": "stream",
          "name": "stdout",
          "text": [
            "      driverId  raceId  year  round pre_crash_position\n",
            "0            1      12  2009     12                 \\N\n",
            "1            1      13  2009     13                 12\n",
            "2            1      24  2008      7                 \\N\n",
            "3            1     350  2010     14                 \\N\n",
            "4            1     351  2010     15                 \\N\n",
            "...        ...     ...   ...    ...                ...\n",
            "1690       858    1114  2023     16                 \\N\n",
            "1691       858    1126  2024      6                 \\N\n",
            "1692       858    1129  2024      9                 \\N\n",
            "1693       861    1141  2024     21                 \\N\n",
            "1694       861    1143  2024     23                 \\N\n",
            "\n",
            "[1695 rows x 5 columns]\n"
          ]
        }
      ]
    },
    {
      "cell_type": "code",
      "source": [
        "final_rounds = standings.groupby(['driverId', 'year'])['round'].max().reset_index()\n"
      ],
      "metadata": {
        "id": "XQ2NXM9ZhvAh"
      },
      "execution_count": 56,
      "outputs": []
    },
    {
      "cell_type": "code",
      "source": [
        "final_standings = standings.merge(final_rounds, on=['driverId', 'year', 'round'], how='inner')\n",
        "final_standings.rename(columns={'position': 'final_position'}, inplace=True)\n"
      ],
      "metadata": {
        "id": "H-dIT7q3h3v_"
      },
      "execution_count": 57,
      "outputs": []
    },
    {
      "cell_type": "code",
      "source": [
        "pre_crash_vs_final = pre_crash.merge(\n",
        "    final_standings[['driverId', 'year', 'final_position']],\n",
        "    on=['driverId', 'year'],\n",
        "    how='left'\n",
        ")\n"
      ],
      "metadata": {
        "id": "8bdg4XR9h6mX"
      },
      "execution_count": 58,
      "outputs": []
    },
    {
      "cell_type": "code",
      "source": [
        "pre_crash_vs_final['pre_crash_position'] = pd.to_numeric(pre_crash_vs_final['pre_crash_position'], errors='coerce')\n",
        "pre_crash_vs_final['final_position'] = pd.to_numeric(pre_crash_vs_final['final_position'], errors='coerce')\n"
      ],
      "metadata": {
        "id": "twmX4aiUiTV8"
      },
      "execution_count": 62,
      "outputs": []
    },
    {
      "cell_type": "code",
      "source": [
        "pre_crash_vs_final['standing_drop'] = (pre_crash_vs_final['pre_crash_position']) - (pre_crash_vs_final['final_position'])\n"
      ],
      "metadata": {
        "id": "ViGnawbDh8iM"
      },
      "execution_count": 63,
      "outputs": []
    },
    {
      "cell_type": "code",
      "source": [
        "drivers = pd.read_csv('/content/drive/MyDrive/Colab Datasets/drivers.csv')\n",
        "\n",
        "drivers['driver_name'] = drivers['forename'] + ' ' + drivers['surname']\n",
        "\n",
        "pre_crash_vs_final = pre_crash_vs_final.merge(drivers[['driverId', 'driver_name']], on='driverId', how='left')\n"
      ],
      "metadata": {
        "id": "K7-GrQWkifvM"
      },
      "execution_count": 65,
      "outputs": []
    },
    {
      "cell_type": "code",
      "source": [
        "print(pre_crash_vs_final[['driver_name', 'year', 'round', 'pre_crash_position', 'final_position', 'standing_drop']])\n"
      ],
      "metadata": {
        "colab": {
          "base_uri": "https://localhost:8080/"
        },
        "collapsed": true,
        "id": "ob31Z5oEiplD",
        "outputId": "0ca0728f-a7ef-41fe-cac9-2c9d452f1359"
      },
      "execution_count": 67,
      "outputs": [
        {
          "output_type": "stream",
          "name": "stdout",
          "text": [
            "           driver_name  year  round  pre_crash_position  final_position  \\\n",
            "0       Lewis Hamilton  2009     12                 NaN               5   \n",
            "1       Lewis Hamilton  2009     13                12.0               5   \n",
            "2       Lewis Hamilton  2008      7                 NaN               1   \n",
            "3       Lewis Hamilton  2010     14                 NaN               4   \n",
            "4       Lewis Hamilton  2010     15                 NaN               4   \n",
            "...                ...   ...    ...                 ...             ...   \n",
            "1690    Logan Sargeant  2023     16                 NaN              21   \n",
            "1691    Logan Sargeant  2024      6                 NaN              23   \n",
            "1692    Logan Sargeant  2024      9                 NaN              23   \n",
            "1693  Franco Colapinto  2024     21                 NaN              19   \n",
            "1694  Franco Colapinto  2024     23                 NaN              19   \n",
            "\n",
            "      standing_drop  \n",
            "0               NaN  \n",
            "1               7.0  \n",
            "2               NaN  \n",
            "3               NaN  \n",
            "4               NaN  \n",
            "...             ...  \n",
            "1690            NaN  \n",
            "1691            NaN  \n",
            "1692            NaN  \n",
            "1693            NaN  \n",
            "1694            NaN  \n",
            "\n",
            "[1695 rows x 6 columns]\n"
          ]
        }
      ]
    },
    {
      "cell_type": "code",
      "source": [
        "final_clean1 = pre_crash_vs_final.dropna(subset=['pre_crash_position', 'final_position'])\n"
      ],
      "metadata": {
        "id": "BWqtO_lwi6d5"
      },
      "execution_count": 71,
      "outputs": []
    },
    {
      "cell_type": "code",
      "source": [
        "final_clean1 = final_clean.sort_values('standing_drop')\n"
      ],
      "metadata": {
        "id": "uBanP7Yai8ZZ"
      },
      "execution_count": 73,
      "outputs": []
    },
    {
      "cell_type": "code",
      "source": [
        "print(final_clean1)"
      ],
      "metadata": {
        "colab": {
          "base_uri": "https://localhost:8080/"
        },
        "collapsed": true,
        "id": "Tacc009Qi-0e",
        "outputId": "f98f07d1-5c7f-42a5-dc93-08b2fd55bff2"
      },
      "execution_count": 74,
      "outputs": [
        {
          "output_type": "stream",
          "name": "stdout",
          "text": [
            "      driverId  raceId  resultId  constructorId number  grid  \\\n",
            "1017       208     554     13569              1     36    26   \n",
            "960        197     619     15300             37     18    17   \n",
            "1158       239     570     14010             63     18    16   \n",
            "752        148     324      7123             46     35    20   \n",
            "1362       438     720     17427             92     24    19   \n",
            "...        ...     ...       ...            ...    ...   ...   \n",
            "569         95     330      7343              6      2     5   \n",
            "496         77     330      7342              1     28     3   \n",
            "891        178     490     11773              3      1     9   \n",
            "1631       844    1029     24603              6     16    14   \n",
            "7            1     867     21418              1      4     2   \n",
            "\n",
            "      pre_crash_position positionText  positionOrder  points  ...  \\\n",
            "1017                17.0           17             17     0.0  ...   \n",
            "960                 11.0           11             11     0.0  ...   \n",
            "1158                10.0           10             10     0.0  ...   \n",
            "752                  7.0            7              7     0.0  ...   \n",
            "1362                 8.0            8              8     0.0  ...   \n",
            "...                  ...          ...            ...     ...  ...   \n",
            "569                 17.0           17             17     0.0  ...   \n",
            "496                 16.0           16             16     0.0  ...   \n",
            "891                 17.0           17             17     0.0  ...   \n",
            "1631                18.0           18             18     0.0  ...   \n",
            "7                   19.0           19             19     0.0  ...   \n",
            "\n",
            "      driverStandingsId raceId_standing points_standing position_standing  \\\n",
            "1017            58113.0           553.0             0.0              37.0   \n",
            "960             55213.0           618.0             0.0              34.0   \n",
            "1158            56830.0           569.0             0.0              29.0   \n",
            "752             15939.0           323.0             0.0              27.0   \n",
            "1362            63370.0           719.0             0.0              22.0   \n",
            "...                 ...             ...             ...               ...   \n",
            "569             16171.0           329.0            13.0               8.0   \n",
            "496             16172.0           329.0            29.0               3.0   \n",
            "891             22937.0           489.0            24.0               2.0   \n",
            "1631            69693.0          1028.0           249.0               3.0   \n",
            "7               65074.0           866.0            88.0               1.0   \n",
            "\n",
            "     positionText_standing wins round_standing  final_position standing_drop  \\\n",
            "1017                    37  0.0           11.0              40         -23.0   \n",
            "960                     34  0.0           14.0              31         -20.0   \n",
            "1158                    29  0.0           10.0              30         -20.0   \n",
            "752                     27  0.0            3.0              22         -15.0   \n",
            "1362                    22  0.0            1.0              23         -15.0   \n",
            "...                    ...  ...            ...             ...           ...   \n",
            "569                      8  0.0            9.0               5          12.0   \n",
            "496                      3  0.0            9.0               4          12.0   \n",
            "891                      2  1.0            7.0               3          14.0   \n",
            "1631                     3  2.0           19.0               4          14.0   \n",
            "7                        1  1.0            7.0               4          15.0   \n",
            "\n",
            "             driver_name  \n",
            "1017   Emilio de Villota  \n",
            "960   Jean-Pierre Jarier  \n",
            "1158        Brett Lunger  \n",
            "752        Gregor Foitek  \n",
            "1362      Tony Settember  \n",
            "...                  ...  \n",
            "569        Nigel Mansell  \n",
            "496       Gerhard Berger  \n",
            "891           Alan Jones  \n",
            "1631     Charles Leclerc  \n",
            "7         Lewis Hamilton  \n",
            "\n",
            "[114 rows x 35 columns]\n"
          ]
        }
      ]
    },
    {
      "cell_type": "code",
      "source": [
        "final_clean1.to_csv('f1_crash_impact_study.csv', index=False)\n"
      ],
      "metadata": {
        "id": "k7_HGZtzjeYj"
      },
      "execution_count": 75,
      "outputs": []
    },
    {
      "cell_type": "code",
      "source": [
        "# This already has driverId, year, and final_position\n",
        "champions = final_standings[final_standings['final_position'] == 1][['year', 'driverId']]\n",
        "champions = champions.merge(drivers[['driverId', 'forename', 'surname']], on='driverId', how='left')\n",
        "champions['champion_name'] = champions['forename'] + ' ' + champions['surname']\n",
        "champions = champions[['year', 'champion_name']]\n"
      ],
      "metadata": {
        "id": "YCaLsp0dkjwo"
      },
      "execution_count": 77,
      "outputs": []
    },
    {
      "cell_type": "code",
      "source": [
        "crashgate = pre_crash_vs_final.copy()\n",
        "crashgate = crashgate.merge(champions, on='year', how='left')\n"
      ],
      "metadata": {
        "id": "xmwqH3FsknGw"
      },
      "execution_count": 78,
      "outputs": []
    },
    {
      "cell_type": "code",
      "source": [
        "crashgate_final = crashgate[[\n",
        "    'driver_name', 'year', 'round', 'pre_crash_position',\n",
        "    'standing_drop', 'final_position', 'champion_name'\n",
        "]]\n"
      ],
      "metadata": {
        "id": "5Xh7PTnkkpns"
      },
      "execution_count": 80,
      "outputs": []
    },
    {
      "cell_type": "code",
      "source": [
        "crashgate_final.to_csv('crashgate.csv', index=False)\n"
      ],
      "metadata": {
        "id": "HrUrQG1GkuPk"
      },
      "execution_count": 81,
      "outputs": []
    },
    {
      "cell_type": "code",
      "source": [
        "from google.colab import files\n",
        "files.download('crashgate.csv')\n"
      ],
      "metadata": {
        "colab": {
          "base_uri": "https://localhost:8080/",
          "height": 17
        },
        "id": "78TAIGtGkvcg",
        "outputId": "693d8fde-4b4e-4f81-cbf8-efbd1c689901"
      },
      "execution_count": 82,
      "outputs": [
        {
          "output_type": "display_data",
          "data": {
            "text/plain": [
              "<IPython.core.display.Javascript object>"
            ],
            "application/javascript": [
              "\n",
              "    async function download(id, filename, size) {\n",
              "      if (!google.colab.kernel.accessAllowed) {\n",
              "        return;\n",
              "      }\n",
              "      const div = document.createElement('div');\n",
              "      const label = document.createElement('label');\n",
              "      label.textContent = `Downloading \"${filename}\": `;\n",
              "      div.appendChild(label);\n",
              "      const progress = document.createElement('progress');\n",
              "      progress.max = size;\n",
              "      div.appendChild(progress);\n",
              "      document.body.appendChild(div);\n",
              "\n",
              "      const buffers = [];\n",
              "      let downloaded = 0;\n",
              "\n",
              "      const channel = await google.colab.kernel.comms.open(id);\n",
              "      // Send a message to notify the kernel that we're ready.\n",
              "      channel.send({})\n",
              "\n",
              "      for await (const message of channel.messages) {\n",
              "        // Send a message to notify the kernel that we're ready.\n",
              "        channel.send({})\n",
              "        if (message.buffers) {\n",
              "          for (const buffer of message.buffers) {\n",
              "            buffers.push(buffer);\n",
              "            downloaded += buffer.byteLength;\n",
              "            progress.value = downloaded;\n",
              "          }\n",
              "        }\n",
              "      }\n",
              "      const blob = new Blob(buffers, {type: 'application/binary'});\n",
              "      const a = document.createElement('a');\n",
              "      a.href = window.URL.createObjectURL(blob);\n",
              "      a.download = filename;\n",
              "      div.appendChild(a);\n",
              "      a.click();\n",
              "      div.remove();\n",
              "    }\n",
              "  "
            ]
          },
          "metadata": {}
        },
        {
          "output_type": "display_data",
          "data": {
            "text/plain": [
              "<IPython.core.display.Javascript object>"
            ],
            "application/javascript": [
              "download(\"download_f0f1f217-c15e-4650-a5ad-684b0c7b857f\", \"crashgate.csv\", 71787)"
            ]
          },
          "metadata": {}
        }
      ]
    }
  ]
}